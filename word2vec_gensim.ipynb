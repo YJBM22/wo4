{
 "cells": [
  {
   "metadata": {
    "ExecuteTime": {
     "end_time": "2025-04-10T01:30:58.721206Z",
     "start_time": "2025-04-10T01:30:57.716550Z"
    }
   },
   "cell_type": "code",
   "source": [
    "import pandas as pd\n",
    "import jieba\n",
    "from gensim.models.word2vec import Word2Vec\n",
    "\n",
    "# 读入训练集文件\n",
    "data = pd.read_csv('train.csv')\n",
    "# 转字符串数组\n",
    "corpus = data['comment'].values.astype(str)\n",
    "# 分词和清洗\n",
    "corpus = [jieba.lcut(corpus[index]\n",
    "                    .replace(\"，\", \"\").replace(\"!\", \"\").replace(\"！\", \"\")\n",
    "                    .replace(\"。\", \"\").replace(\"~\", \"\").replace(\"；\", \"\")\n",
    "                    .replace(\"？\", \"\").replace(\"?\", \"\").replace(\"【\", \"\")\n",
    "                    .replace(\"】\", \"\").replace(\"#\", \"\")) \n",
    "          for index in range(len(corpus))]"
   ],
   "id": "bb054897d702f1c0",
   "outputs": [],
   "execution_count": 12
  },
  {
   "metadata": {
    "ExecuteTime": {
     "end_time": "2025-04-10T01:32:24.453748Z",
     "start_time": "2025-04-10T01:32:23.166636Z"
    }
   },
   "cell_type": "code",
   "source": [
    "# 使用Skip-Gram (sg=1) 训练模型\n",
    "model = Word2Vec(corpus, sg=1, vector_size=300, window=5, min_count=3, workers=4)\n",
    "print(\"模型训练完成（Skip-Gram模式）\")"
   ],
   "id": "f6b55242f71a7602",
   "outputs": [
    {
     "name": "stdout",
     "output_type": "stream",
     "text": [
      "模型训练完成（Skip-Gram模式）\n"
     ]
    }
   ],
   "execution_count": 29
  },
  {
   "metadata": {
    "ExecuteTime": {
     "end_time": "2025-04-10T01:31:56.326093Z",
     "start_time": "2025-04-10T01:31:56.312344Z"
    }
   },
   "cell_type": "code",
   "source": [
    "env_vector = model.wv['环境']\n",
    "print(\"“环境”的词向量（前5维）：\", env_vector[:5])\n",
    "print(\"词向量形状：\", env_vector.shape)"
   ],
   "id": "7935edeb378f2a0e",
   "outputs": [
    {
     "name": "stdout",
     "output_type": "stream",
     "text": [
      "“环境”的词向量（前5维）： [ 0.1127993   0.19931896 -0.04758622  0.17593537 -0.09811057]\n",
      "词向量形状： (300,)\n"
     ]
    }
   ],
   "execution_count": 20
  },
  {
   "metadata": {
    "ExecuteTime": {
     "end_time": "2025-04-10T01:32:31.909226Z",
     "start_time": "2025-04-10T01:32:31.899236Z"
    }
   },
   "cell_type": "code",
   "source": [
    "similar_words = model.wv.most_similar('好吃', topn=3)\n",
    "print(\"与“好吃”最接近的3个词：\", similar_words)"
   ],
   "id": "753eedc82b0f393b",
   "outputs": [
    {
     "name": "stdout",
     "output_type": "stream",
     "text": [
      "与“好吃”最接近的3个词： [('好看', 0.8235572576522827), ('入味', 0.8222326636314392), ('美味', 0.8170395493507385)]\n"
     ]
    }
   ],
   "execution_count": 31
  },
  {
   "metadata": {
    "ExecuteTime": {
     "end_time": "2025-04-10T01:32:00.725987Z",
     "start_time": "2025-04-10T01:32:00.715900Z"
    }
   },
   "cell_type": "code",
   "source": [
    "sim1 = model.wv.similarity('好吃', '美味')\n",
    "sim2 = model.wv.similarity('好吃', '蟑螂')\n",
    "print(\"“好吃”和“美味”的相似度：\", round(sim1, 3))\n",
    "print(\"“好吃”和“蟑螂”的相似度：\", round(sim2, 3))"
   ],
   "id": "a9de7e57a2f887a3",
   "outputs": [
    {
     "name": "stdout",
     "output_type": "stream",
     "text": [
      "“好吃”和“美味”的相似度： 0.83\n",
      "“好吃”和“蟑螂”的相似度： 0.247\n"
     ]
    }
   ],
   "execution_count": 22
  },
  {
   "metadata": {
    "ExecuteTime": {
     "end_time": "2025-04-10T01:32:25.025982Z",
     "start_time": "2025-04-10T01:32:25.013343Z"
    }
   },
   "cell_type": "code",
   "source": [
    "result = model.wv.most_similar(positive=['餐厅', '聚会'], negative=['安静'], topn=1)\n",
    "print(\"餐厅 + 聚会 - 安静 =\", result[0][0])"
   ],
   "id": "50d5f56692d317b1",
   "outputs": [
    {
     "name": "stdout",
     "output_type": "stream",
     "text": [
      "餐厅 + 聚会 - 安静 = 家庭聚会\n"
     ]
    }
   ],
   "execution_count": 30
  }
 ],
 "metadata": {
  "kernelspec": {
   "display_name": "Python 3",
   "language": "python",
   "name": "python3"
  },
  "language_info": {
   "codemirror_mode": {
    "name": "ipython",
    "version": 2
   },
   "file_extension": ".py",
   "mimetype": "text/x-python",
   "name": "python",
   "nbconvert_exporter": "python",
   "pygments_lexer": "ipython2",
   "version": "2.7.6"
  }
 },
 "nbformat": 4,
 "nbformat_minor": 5
}
